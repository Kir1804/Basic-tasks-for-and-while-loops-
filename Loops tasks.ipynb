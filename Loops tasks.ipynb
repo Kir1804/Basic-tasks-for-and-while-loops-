{
 "cells": [
  {
   "cell_type": "markdown",
   "id": "9dd6e278",
   "metadata": {},
   "source": [
    "# For, if, while"
   ]
  },
  {
   "cell_type": "markdown",
   "id": "820d1b7a",
   "metadata": {},
   "source": [
    "### Вводная работа со списками и словарями"
   ]
  },
  {
   "cell_type": "code",
   "execution_count": 5,
   "id": "08eebf32",
   "metadata": {},
   "outputs": [
    {
     "name": "stdout",
     "output_type": "stream",
     "text": [
      "I have aplles: 5\n",
      "I have aplles: 4\n",
      "I have aplles: 3\n",
      "I have aplles: 2\n",
      "I have aplles: 1\n",
      "The loop is over\n"
     ]
    }
   ],
   "source": [
    "apples = 5\n",
    "\n",
    "while apples > 0:\n",
    "    print('I have aplles:', apples)\n",
    "    apples -=1\n",
    "else:\n",
    "    print('The loop is over')"
   ]
  },
  {
   "cell_type": "code",
   "execution_count": 6,
   "id": "1fbebba3",
   "metadata": {},
   "outputs": [
    {
     "name": "stdout",
     "output_type": "stream",
     "text": [
      "С\n",
      "л\n",
      "о\n",
      "в\n",
      "о\n"
     ]
    }
   ],
   "source": [
    "word = 'Слово'\n",
    "\n",
    "for i in word:\n",
    "    print(i)"
   ]
  },
  {
   "cell_type": "code",
   "execution_count": 8,
   "id": "c266daa1",
   "metadata": {},
   "outputs": [
    {
     "name": "stdout",
     "output_type": "stream",
     "text": [
      "Dog\n",
      "God\n",
      "Life\n",
      "John\n"
     ]
    }
   ],
   "source": [
    "list_1 = ['Dog', 'God', 'Life', 'John']\n",
    "\n",
    "for i in list_1:\n",
    "    print(i)"
   ]
  },
  {
   "cell_type": "code",
   "execution_count": 9,
   "id": "652f4a8a",
   "metadata": {},
   "outputs": [
    {
     "name": "stdout",
     "output_type": "stream",
     "text": [
      "Номер сезона: 1\n",
      "Название сезона: Summer\n",
      "Номер сезона: 2\n",
      "Название сезона: Autumn\n",
      "Номер сезона: 3\n",
      "Название сезона: Spring\n"
     ]
    }
   ],
   "source": [
    "seasons = {1: 'Summer', 2: 'Autumn', 3: 'Spring'}\n",
    "\n",
    "for s in seasons:\n",
    "    print('Номер сезона:', s)\n",
    "    print('Название сезона:', seasons[s])"
   ]
  },
  {
   "cell_type": "code",
   "execution_count": 10,
   "id": "5f59f452",
   "metadata": {},
   "outputs": [
    {
     "name": "stdout",
     "output_type": "stream",
     "text": [
      "L\n",
      "e\n",
      "e\n",
      "r\n"
     ]
    }
   ],
   "source": [
    "for i in 'Letter':\n",
    "    if i == 't':\n",
    "        continue\n",
    "    print(i)"
   ]
  },
  {
   "cell_type": "code",
   "execution_count": 25,
   "id": "51332161",
   "metadata": {},
   "outputs": [
    {
     "name": "stdout",
     "output_type": "stream",
     "text": [
      "John\n",
      "Kirill\n",
      "Dima\n"
     ]
    }
   ],
   "source": [
    "for i in ['John', 'Kirill', 'Dima', 'Sarah', 'Jimmy']:\n",
    "    if i == 'Sarah':\n",
    "        break\n",
    "    print(i)"
   ]
  },
  {
   "cell_type": "code",
   "execution_count": 29,
   "id": "cd005429",
   "metadata": {},
   "outputs": [
    {
     "name": "stdout",
     "output_type": "stream",
     "text": [
      "[0, 4, 10, 24, 36, 65]\n"
     ]
    }
   ],
   "source": [
    "lst = [2, 4, 5, 8, 9, 13]\n",
    "for number in range(len(lst)):\n",
    "    lst[number] *= number\n",
    "print(lst)"
   ]
  },
  {
   "cell_type": "markdown",
   "id": "a33747e0",
   "metadata": {},
   "source": [
    "### Четность числа"
   ]
  },
  {
   "cell_type": "code",
   "execution_count": 39,
   "id": "1183aaf5",
   "metadata": {},
   "outputs": [
    {
     "name": "stdout",
     "output_type": "stream",
     "text": [
      "Вводимое число:22\n",
      "Число является четным\n"
     ]
    }
   ],
   "source": [
    "num = int(input('Вводимое число:'))\n",
    "\n",
    "if num%2 == 0:\n",
    "    print('Число является четным')\n",
    "else:\n",
    "    print('Число является нечетным') "
   ]
  },
  {
   "cell_type": "markdown",
   "id": "55ecb90e",
   "metadata": {},
   "source": [
    "### Високосный год"
   ]
  },
  {
   "cell_type": "code",
   "execution_count": 43,
   "id": "b3425c18",
   "metadata": {},
   "outputs": [
    {
     "name": "stdout",
     "output_type": "stream",
     "text": [
      "Год:2300\n",
      "Год не високосный\n"
     ]
    }
   ],
   "source": [
    "year = int(input('Год:'))\n",
    "\n",
    "if year%4 == 0:\n",
    "        if year%100 == 0:\n",
    "                if year%400 == 0:\n",
    "                    print('Год високосный')\n",
    "                else:\n",
    "                    print('Год не високосный')\n",
    "        else:\n",
    "            print('Год високосный')\n",
    "else: \n",
    "    print('Год не високосный')"
   ]
  },
  {
   "cell_type": "markdown",
   "id": "bc6920f4",
   "metadata": {},
   "source": [
    "### Наибольшее из 3-х чисел"
   ]
  },
  {
   "cell_type": "code",
   "execution_count": 74,
   "id": "6a9a5abb",
   "metadata": {},
   "outputs": [
    {
     "name": "stdout",
     "output_type": "stream",
     "text": [
      "Число_1 2\n",
      "Число_2 76\n",
      "Число_3 13\n",
      "Число_2 наибольшее\n"
     ]
    }
   ],
   "source": [
    "num_1 = float(input('Число_1 '))\n",
    "num_2 = float(input('Число_2 '))\n",
    "num_3 = float(input('Число_3 '))\n",
    "\n",
    "if num_1 > num_2:\n",
    "    if num_1 > num_3:\n",
    "        print('Число_1 наибольшее')\n",
    "    else:\n",
    "        print('Число_3 наибольшее')\n",
    "else: \n",
    "    if num_2 > num_3:\n",
    "        print('Число_2 наибольшее')\n",
    "    else:\n",
    "        print('Число_3 наибольшее')"
   ]
  },
  {
   "cell_type": "markdown",
   "id": "6eb60d54",
   "metadata": {},
   "source": [
    "### Вывод всех простых чисел в интервале"
   ]
  },
  {
   "cell_type": "code",
   "execution_count": 73,
   "id": "2f02801e",
   "metadata": {},
   "outputs": [
    {
     "name": "stdout",
     "output_type": "stream",
     "text": [
      "Число 1 2\n",
      "Число 2 17\n",
      "Все простые числа:  [2, 3, 5, 7, 11, 13]\n"
     ]
    }
   ],
   "source": [
    "a = []\n",
    "b = int(input('Число 1 '))\n",
    "c = int(input('Число 2 '))\n",
    "\n",
    "for num in range (b, c):\n",
    "    if num > 1:\n",
    "        for i in range(2, num): \n",
    "            if num%i == 0:\n",
    "                break\n",
    "        else:\n",
    "            a.append(num)\n",
    "print('Все простые числа: ', a)"
   ]
  },
  {
   "cell_type": "markdown",
   "id": "f27e4204",
   "metadata": {},
   "source": [
    "### Факториал числа"
   ]
  },
  {
   "cell_type": "code",
   "execution_count": 43,
   "id": "e0c804df",
   "metadata": {},
   "outputs": [
    {
     "name": "stdout",
     "output_type": "stream",
     "text": [
      "Число: -23\n",
      "Факториала не существует\n"
     ]
    }
   ],
   "source": [
    "num = int(input('Число: '))\n",
    "a = 1\n",
    "if num > 0:\n",
    "    for i in range (1, num+1):\n",
    "        if i > 1:\n",
    "            a = i*a\n",
    "elif num == 0:\n",
    "    print(1)\n",
    "else:\n",
    "    print('Факториала не существует')"
   ]
  },
  {
   "cell_type": "markdown",
   "id": "29967c49",
   "metadata": {},
   "source": [
    "### Python таблица умножения"
   ]
  },
  {
   "cell_type": "code",
   "execution_count": 71,
   "id": "33a6d6bc",
   "metadata": {},
   "outputs": [
    {
     "name": "stdout",
     "output_type": "stream",
     "text": [
      "Число: 9\n",
      "[9, 18, 27, 36, 45, 54, 63, 72, 81, 90]\n"
     ]
    }
   ],
   "source": [
    "num = int(input('Число: '))\n",
    "a = []\n",
    "\n",
    "for i in range(1, 11):\n",
    "    b = num*i\n",
    "    a.append(b)\n",
    "print(a)"
   ]
  },
  {
   "cell_type": "markdown",
   "id": "c68e42b6",
   "metadata": {},
   "source": [
    "### Числа фибоначчи python"
   ]
  },
  {
   "cell_type": "code",
   "execution_count": 52,
   "id": "b1c1e631",
   "metadata": {},
   "outputs": [
    {
     "name": "stdout",
     "output_type": "stream",
     "text": [
      "Количество элементов последовательности 2\n",
      "0\n",
      "1\n"
     ]
    }
   ],
   "source": [
    "nterms = int(input(\"Количество элементов последовательности \"))\n",
    "n_1, n_2 = 0, 1\n",
    "counts = 0\n",
    "\n",
    "if nterms <= 0:\n",
    "    print('Введите положительное число')\n",
    "elif nterms == 1:\n",
    "    print('Последовательность Фибоначчи:', nterms, ':')\n",
    "    print(n_1)\n",
    "else:\n",
    "    while counts < nterms:\n",
    "        print(n_1)\n",
    "        nth = n_1+n_2\n",
    "        n_1 = n_2\n",
    "        n_2 = nth\n",
    "        counts += 1"
   ]
  },
  {
   "cell_type": "markdown",
   "id": "c6ca43ec",
   "metadata": {},
   "source": [
    "### Сумма натуральных чисел Python "
   ]
  },
  {
   "cell_type": "code",
   "execution_count": 64,
   "id": "a2c6947f",
   "metadata": {},
   "outputs": [
    {
     "name": "stdout",
     "output_type": "stream",
     "text": [
      "Введите количество элементов 120\n",
      "Сумма натуральных чисел равняется 7260\n"
     ]
    }
   ],
   "source": [
    "# Более подробное\n",
    "\n",
    "numbers = int(input('Введите количество элементов '))\n",
    "n_1 = 0\n",
    "\n",
    "if numbers <= 0:\n",
    "    print('Введите положительное число')\n",
    "else:\n",
    "    for i in range(1, numbers+1):\n",
    "        n_1 = i+n_1\n",
    "    print('Сумма натуральных чисел равняется', n_1)"
   ]
  },
  {
   "cell_type": "code",
   "execution_count": 63,
   "id": "f0e451bd",
   "metadata": {},
   "outputs": [
    {
     "name": "stdout",
     "output_type": "stream",
     "text": [
      "Сумма натруальных чисел равняется 5050\n"
     ]
    }
   ],
   "source": [
    "# Более простой вариант\n",
    "\n",
    "n = 0\n",
    "for i in range (1, 101): # Тут надо задавать верхнюю границу, можно записать переменную\n",
    "    n = i+n\n",
    "print('Сумма натруальных чисел равняется', n)"
   ]
  },
  {
   "cell_type": "markdown",
   "id": "580d2593",
   "metadata": {},
   "source": [
    "### Перебор словаря"
   ]
  },
  {
   "cell_type": "code",
   "execution_count": 66,
   "id": "499946a8",
   "metadata": {},
   "outputs": [
    {
     "name": "stdout",
     "output_type": "stream",
     "text": [
      "Position FRW\n",
      "Gpals 12\n",
      "G/A 21\n"
     ]
    }
   ],
   "source": [
    "# И ключ, и значение\n",
    "\n",
    "dct = {'Position': 'FRW', 'Gpals': '12', 'G/A': '21'}\n",
    "\n",
    "for key, value in dct.items():\n",
    "    print(key, value)"
   ]
  },
  {
   "cell_type": "code",
   "execution_count": 67,
   "id": "e28bd1dd",
   "metadata": {},
   "outputs": [
    {
     "name": "stdout",
     "output_type": "stream",
     "text": [
      "Position\n",
      "Gpals\n",
      "G/A\n"
     ]
    }
   ],
   "source": [
    "# Только ключ\n",
    "\n",
    "for key in dct.keys():\n",
    "    print(key)"
   ]
  },
  {
   "cell_type": "code",
   "execution_count": 68,
   "id": "79a222f3",
   "metadata": {},
   "outputs": [
    {
     "name": "stdout",
     "output_type": "stream",
     "text": [
      "FRW\n",
      "12\n",
      "21\n"
     ]
    }
   ],
   "source": [
    "# Только значения\n",
    "\n",
    "for value in dct.values():\n",
    "    print(value)"
   ]
  },
  {
   "cell_type": "markdown",
   "id": "90f28294",
   "metadata": {},
   "source": [
    "### Реверс числа"
   ]
  },
  {
   "cell_type": "code",
   "execution_count": 70,
   "id": "4768aec5",
   "metadata": {},
   "outputs": [
    {
     "name": "stdout",
     "output_type": "stream",
     "text": [
      "Реверс числа:  3776453\n"
     ]
    }
   ],
   "source": [
    "num = 3546773\n",
    "\n",
    "a = (str(num)[::-1])\n",
    "print('Реверс числа: ', a)"
   ]
  }
 ],
 "metadata": {
  "kernelspec": {
   "display_name": "Python 3 (ipykernel)",
   "language": "python",
   "name": "python3"
  },
  "language_info": {
   "codemirror_mode": {
    "name": "ipython",
    "version": 3
   },
   "file_extension": ".py",
   "mimetype": "text/x-python",
   "name": "python",
   "nbconvert_exporter": "python",
   "pygments_lexer": "ipython3",
   "version": "3.9.12"
  }
 },
 "nbformat": 4,
 "nbformat_minor": 5
}
